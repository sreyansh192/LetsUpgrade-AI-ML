{
 "cells": [
  {
   "cell_type": "code",
   "execution_count": 5,
   "metadata": {},
   "outputs": [
    {
     "name": "stdout",
     "output_type": "stream",
     "text": [
      "Enter a complex number: 2+3j\n",
      "Enter another complex number: 3+4j\n",
      "(5+7j)\n",
      "(-1-1j)\n",
      "(-6+17j)\n",
      "(0.72+0.04j)\n"
     ]
    }
   ],
   "source": [
    "#question 1\n",
    "a=complex(input('Enter a complex number: '))\n",
    "b=complex(input('Enter another complex number: '))\n",
    "print(a+b)\n",
    "print(a-b)\n",
    "print(a*b)\n",
    "print(a/b)\n",
    "#we cannot use modulo operator and floor division in complex numbers\n"
   ]
  },
  {
   "cell_type": "markdown",
   "metadata": {},
   "source": [
    "#question 2\n",
    "range() function : it is a shorthand key to represent an array of large number of elements.it can take 3 inputs that is range(x,y,z),where x is the start and y is the end,here z represents the no. of steps between the elements.\n"
   ]
  },
  {
   "cell_type": "code",
   "execution_count": 4,
   "metadata": {},
   "outputs": [
    {
     "name": "stdout",
     "output_type": "stream",
     "text": [
      "0\n",
      "2\n",
      "4\n",
      "6\n",
      "8\n"
     ]
    }
   ],
   "source": [
    "#question 2\n",
    "for x in range(0,10,2):\n",
    "    print(x)"
   ]
  },
  {
   "cell_type": "code",
   "execution_count": 7,
   "metadata": {},
   "outputs": [
    {
     "name": "stdout",
     "output_type": "stream",
     "text": [
      "Enter a number: 40\n",
      "Enter another number: 20\n",
      "2.0\n"
     ]
    }
   ],
   "source": [
    "#question 3\n",
    "a=int(input('Enter a number: '))\n",
    "b=int(input('Enter another number: '))\n",
    "if (a-b)>25:\n",
    "    print(a*b)\n",
    "else:\n",
    "    print(a/b)"
   ]
  },
  {
   "cell_type": "code",
   "execution_count": 8,
   "metadata": {},
   "outputs": [
    {
     "name": "stdout",
     "output_type": "stream",
     "text": [
      "2\n",
      "14\n",
      "34\n",
      "62\n",
      "98\n"
     ]
    }
   ],
   "source": [
    "#question 4\n",
    "mylist=[1,2,3,4,5,6,7,8,9,10]\n",
    "for item in mylist:\n",
    "    if item%2==0:\n",
    "        print(item**2-2)\n",
    "    else:\n",
    "        pass"
   ]
  },
  {
   "cell_type": "code",
   "execution_count": 10,
   "metadata": {},
   "outputs": [
    {
     "name": "stdout",
     "output_type": "stream",
     "text": [
      "15\n",
      "16\n",
      "17\n",
      "18\n",
      "19\n"
     ]
    }
   ],
   "source": [
    "#question 5\n",
    "mylist=[9,10,11,12,13,14,15,16,17,18,19]\n",
    "for item in mylist:\n",
    "    if item/2>7:\n",
    "        print(item)\n",
    "    else:\n",
    "        pass"
   ]
  },
  {
   "cell_type": "code",
   "execution_count": null,
   "metadata": {},
   "outputs": [],
   "source": []
  }
 ],
 "metadata": {
  "kernelspec": {
   "display_name": "Python 3",
   "language": "python",
   "name": "python3"
  },
  "language_info": {
   "codemirror_mode": {
    "name": "ipython",
    "version": 3
   },
   "file_extension": ".py",
   "mimetype": "text/x-python",
   "name": "python",
   "nbconvert_exporter": "python",
   "pygments_lexer": "ipython3",
   "version": "3.7.6"
  }
 },
 "nbformat": 4,
 "nbformat_minor": 4
}
